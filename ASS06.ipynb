{
  "nbformat": 4,
  "nbformat_minor": 0,
  "metadata": {
    "colab": {
      "name": "ASS06.ipynb",
      "provenance": [],
      "collapsed_sections": [],
      "toc_visible": true
    },
    "kernelspec": {
      "name": "python3",
      "display_name": "Python 3"
    }
  },
  "cells": [
    {
      "cell_type": "code",
      "metadata": {
        "id": "InRw1nYR2GMe"
      },
      "source": [
        "import pandas as pd\r\n",
        "import numpy as np\r\n",
        "import matplotlib.pyplot as plt\r\n",
        "from sklearn.linear_model import LinearRegression\r\n",
        "import statsmodels.api as sm"
      ],
      "execution_count": 5,
      "outputs": []
    },
    {
      "cell_type": "markdown",
      "metadata": {
        "id": "lBJSHHlvwXIn"
      },
      "source": [
        "#A)\r\n",
        "Write the regression equation for Model I, Model II, Model III, and Model IV. (4 Points)"
      ]
    },
    {
      "cell_type": "code",
      "metadata": {
        "colab": {
          "base_uri": "https://localhost:8080/",
          "height": 203
        },
        "id": "OioLuHJ32UpG",
        "outputId": "e88cf37d-6622-4c6c-8def-a6129b222db9"
      },
      "source": [
        "df = pd.read_csv(\"ACT_06_Data.csv\")\r\n",
        "df.head(5)"
      ],
      "execution_count": 6,
      "outputs": [
        {
          "output_type": "execute_result",
          "data": {
            "text/html": [
              "<div>\n",
              "<style scoped>\n",
              "    .dataframe tbody tr th:only-of-type {\n",
              "        vertical-align: middle;\n",
              "    }\n",
              "\n",
              "    .dataframe tbody tr th {\n",
              "        vertical-align: top;\n",
              "    }\n",
              "\n",
              "    .dataframe thead th {\n",
              "        text-align: right;\n",
              "    }\n",
              "</style>\n",
              "<table border=\"1\" class=\"dataframe\">\n",
              "  <thead>\n",
              "    <tr style=\"text-align: right;\">\n",
              "      <th></th>\n",
              "      <th>Y</th>\n",
              "      <th>X1</th>\n",
              "      <th>X2</th>\n",
              "      <th>X12</th>\n",
              "      <th>X1SQ</th>\n",
              "      <th>X2SQ</th>\n",
              "    </tr>\n",
              "  </thead>\n",
              "  <tbody>\n",
              "    <tr>\n",
              "      <th>0</th>\n",
              "      <td>2010</td>\n",
              "      <td>201</td>\n",
              "      <td>75</td>\n",
              "      <td>15075</td>\n",
              "      <td>40401</td>\n",
              "      <td>5625</td>\n",
              "    </tr>\n",
              "    <tr>\n",
              "      <th>1</th>\n",
              "      <td>1850</td>\n",
              "      <td>205</td>\n",
              "      <td>50</td>\n",
              "      <td>10250</td>\n",
              "      <td>42025</td>\n",
              "      <td>2500</td>\n",
              "    </tr>\n",
              "    <tr>\n",
              "      <th>2</th>\n",
              "      <td>2400</td>\n",
              "      <td>355</td>\n",
              "      <td>75</td>\n",
              "      <td>26625</td>\n",
              "      <td>126025</td>\n",
              "      <td>5625</td>\n",
              "    </tr>\n",
              "    <tr>\n",
              "      <th>3</th>\n",
              "      <td>1575</td>\n",
              "      <td>208</td>\n",
              "      <td>30</td>\n",
              "      <td>6240</td>\n",
              "      <td>43264</td>\n",
              "      <td>900</td>\n",
              "    </tr>\n",
              "    <tr>\n",
              "      <th>4</th>\n",
              "      <td>3550</td>\n",
              "      <td>590</td>\n",
              "      <td>75</td>\n",
              "      <td>44250</td>\n",
              "      <td>348100</td>\n",
              "      <td>5625</td>\n",
              "    </tr>\n",
              "  </tbody>\n",
              "</table>\n",
              "</div>"
            ],
            "text/plain": [
              "     Y        X1  X2    X12    X1SQ  X2SQ\n",
              "0      2010  201  75  15075   40401  5625\n",
              "1      1850  205  50  10250   42025  2500\n",
              "2      2400  355  75  26625  126025  5625\n",
              "3      1575  208  30   6240   43264   900\n",
              "4      3550  590  75  44250  348100  5625"
            ]
          },
          "metadata": {
            "tags": []
          },
          "execution_count": 6
        }
      ]
    },
    {
      "cell_type": "code",
      "metadata": {
        "colab": {
          "base_uri": "https://localhost:8080/",
          "height": 497
        },
        "id": "4KZJ30jm2gmi",
        "outputId": "ae3f7880-1c98-4efb-9687-61df82d24b75"
      },
      "source": [
        "\r\n",
        "X = df[['X1','X2']]\r\n",
        "Y = df['  Y     ']\r\n",
        "\r\n",
        "\r\n",
        "a = sm.add_constant(X)\r\n",
        "\r\n",
        "ModelI = sm.OLS(Y,a).fit()\r\n",
        "ModelI.summary()"
      ],
      "execution_count": 7,
      "outputs": [
        {
          "output_type": "execute_result",
          "data": {
            "text/html": [
              "<table class=\"simpletable\">\n",
              "<caption>OLS Regression Results</caption>\n",
              "<tr>\n",
              "  <th>Dep. Variable:</th>        <td>  Y     </td>     <th>  R-squared:         </th> <td>   0.900</td>\n",
              "</tr>\n",
              "<tr>\n",
              "  <th>Model:</th>                   <td>OLS</td>       <th>  Adj. R-squared:    </th> <td>   0.888</td>\n",
              "</tr>\n",
              "<tr>\n",
              "  <th>Method:</th>             <td>Least Squares</td>  <th>  F-statistic:       </th> <td>   76.28</td>\n",
              "</tr>\n",
              "<tr>\n",
              "  <th>Date:</th>             <td>Fri, 05 Mar 2021</td> <th>  Prob (F-statistic):</th> <td>3.23e-09</td>\n",
              "</tr>\n",
              "<tr>\n",
              "  <th>Time:</th>                 <td>15:35:25</td>     <th>  Log-Likelihood:    </th> <td> -146.29</td>\n",
              "</tr>\n",
              "<tr>\n",
              "  <th>No. Observations:</th>      <td>    20</td>      <th>  AIC:               </th> <td>   298.6</td>\n",
              "</tr>\n",
              "<tr>\n",
              "  <th>Df Residuals:</th>          <td>    17</td>      <th>  BIC:               </th> <td>   301.6</td>\n",
              "</tr>\n",
              "<tr>\n",
              "  <th>Df Model:</th>              <td>     2</td>      <th>                     </th>     <td> </td>   \n",
              "</tr>\n",
              "<tr>\n",
              "  <th>Covariance Type:</th>      <td>nonrobust</td>    <th>                     </th>     <td> </td>   \n",
              "</tr>\n",
              "</table>\n",
              "<table class=\"simpletable\">\n",
              "<tr>\n",
              "    <td></td>       <th>coef</th>     <th>std err</th>      <th>t</th>      <th>P>|t|</th>  <th>[0.025</th>    <th>0.975]</th>  \n",
              "</tr>\n",
              "<tr>\n",
              "  <th>const</th> <td> -566.4182</td> <td>  312.265</td> <td>   -1.814</td> <td> 0.087</td> <td>-1225.240</td> <td>   92.404</td>\n",
              "</tr>\n",
              "<tr>\n",
              "  <th>X1</th>    <td>    2.5509</td> <td>    0.267</td> <td>    9.564</td> <td> 0.000</td> <td>    1.988</td> <td>    3.114</td>\n",
              "</tr>\n",
              "<tr>\n",
              "  <th>X2</th>    <td>   34.2847</td> <td>    4.680</td> <td>    7.326</td> <td> 0.000</td> <td>   24.410</td> <td>   44.159</td>\n",
              "</tr>\n",
              "</table>\n",
              "<table class=\"simpletable\">\n",
              "<tr>\n",
              "  <th>Omnibus:</th>       <td> 3.525</td> <th>  Durbin-Watson:     </th> <td>   1.870</td>\n",
              "</tr>\n",
              "<tr>\n",
              "  <th>Prob(Omnibus):</th> <td> 0.172</td> <th>  Jarque-Bera (JB):  </th> <td>   1.410</td>\n",
              "</tr>\n",
              "<tr>\n",
              "  <th>Skew:</th>          <td> 0.191</td> <th>  Prob(JB):          </th> <td>   0.494</td>\n",
              "</tr>\n",
              "<tr>\n",
              "  <th>Kurtosis:</th>      <td> 1.756</td> <th>  Cond. No.          </th> <td>2.77e+03</td>\n",
              "</tr>\n",
              "</table><br/><br/>Warnings:<br/>[1] Standard Errors assume that the covariance matrix of the errors is correctly specified.<br/>[2] The condition number is large, 2.77e+03. This might indicate that there are<br/>strong multicollinearity or other numerical problems."
            ],
            "text/plain": [
              "<class 'statsmodels.iolib.summary.Summary'>\n",
              "\"\"\"\n",
              "                            OLS Regression Results                            \n",
              "==============================================================================\n",
              "Dep. Variable:                 Y        R-squared:                       0.900\n",
              "Model:                            OLS   Adj. R-squared:                  0.888\n",
              "Method:                 Least Squares   F-statistic:                     76.28\n",
              "Date:                Fri, 05 Mar 2021   Prob (F-statistic):           3.23e-09\n",
              "Time:                        15:35:25   Log-Likelihood:                -146.29\n",
              "No. Observations:                  20   AIC:                             298.6\n",
              "Df Residuals:                      17   BIC:                             301.6\n",
              "Df Model:                           2                                         \n",
              "Covariance Type:            nonrobust                                         \n",
              "==============================================================================\n",
              "                 coef    std err          t      P>|t|      [0.025      0.975]\n",
              "------------------------------------------------------------------------------\n",
              "const       -566.4182    312.265     -1.814      0.087   -1225.240      92.404\n",
              "X1             2.5509      0.267      9.564      0.000       1.988       3.114\n",
              "X2            34.2847      4.680      7.326      0.000      24.410      44.159\n",
              "==============================================================================\n",
              "Omnibus:                        3.525   Durbin-Watson:                   1.870\n",
              "Prob(Omnibus):                  0.172   Jarque-Bera (JB):                1.410\n",
              "Skew:                           0.191   Prob(JB):                        0.494\n",
              "Kurtosis:                       1.756   Cond. No.                     2.77e+03\n",
              "==============================================================================\n",
              "\n",
              "Warnings:\n",
              "[1] Standard Errors assume that the covariance matrix of the errors is correctly specified.\n",
              "[2] The condition number is large, 2.77e+03. This might indicate that there are\n",
              "strong multicollinearity or other numerical problems.\n",
              "\"\"\""
            ]
          },
          "metadata": {
            "tags": []
          },
          "execution_count": 7
        }
      ]
    },
    {
      "cell_type": "markdown",
      "metadata": {
        "id": "kQMg00Scwh_d"
      },
      "source": [
        "-566.4182+2.5509*X1+34.2847*X2"
      ]
    },
    {
      "cell_type": "code",
      "metadata": {
        "colab": {
          "base_uri": "https://localhost:8080/"
        },
        "id": "HQfMd6vnwuaX",
        "outputId": "3266f8f3-20ab-4b99-f7d0-194a38de0372"
      },
      "source": [
        "print('Model I Regression equation: -566.4182 + 2.5509*X1 + 34.2847*X2')"
      ],
      "execution_count": 8,
      "outputs": [
        {
          "output_type": "stream",
          "text": [
            "Model I Regression equation: -566.4182 + 2.5509*X1 + 34.2847*X2\n"
          ],
          "name": "stdout"
        }
      ]
    },
    {
      "cell_type": "code",
      "metadata": {
        "colab": {
          "base_uri": "https://localhost:8080/",
          "height": 518
        },
        "id": "8mSZer323uYL",
        "outputId": "6f63f207-e0f4-4af0-b5e9-e594572cbbbe"
      },
      "source": [
        "X2 = df[['X1','X2','X12']]\r\n",
        "\r\n",
        "b = sm.add_constant(X2)\r\n",
        "\r\n",
        "ModelII = sm.OLS(Y,b).fit()\r\n",
        "ModelII.summary()"
      ],
      "execution_count": 9,
      "outputs": [
        {
          "output_type": "execute_result",
          "data": {
            "text/html": [
              "<table class=\"simpletable\">\n",
              "<caption>OLS Regression Results</caption>\n",
              "<tr>\n",
              "  <th>Dep. Variable:</th>        <td>  Y     </td>     <th>  R-squared:         </th> <td>   0.978</td>\n",
              "</tr>\n",
              "<tr>\n",
              "  <th>Model:</th>                   <td>OLS</td>       <th>  Adj. R-squared:    </th> <td>   0.974</td>\n",
              "</tr>\n",
              "<tr>\n",
              "  <th>Method:</th>             <td>Least Squares</td>  <th>  F-statistic:       </th> <td>   239.4</td>\n",
              "</tr>\n",
              "<tr>\n",
              "  <th>Date:</th>             <td>Fri, 05 Mar 2021</td> <th>  Prob (F-statistic):</th> <td>1.68e-13</td>\n",
              "</tr>\n",
              "<tr>\n",
              "  <th>Time:</th>                 <td>15:35:25</td>     <th>  Log-Likelihood:    </th> <td> -131.03</td>\n",
              "</tr>\n",
              "<tr>\n",
              "  <th>No. Observations:</th>      <td>    20</td>      <th>  AIC:               </th> <td>   270.1</td>\n",
              "</tr>\n",
              "<tr>\n",
              "  <th>Df Residuals:</th>          <td>    16</td>      <th>  BIC:               </th> <td>   274.0</td>\n",
              "</tr>\n",
              "<tr>\n",
              "  <th>Df Model:</th>              <td>     3</td>      <th>                     </th>     <td> </td>   \n",
              "</tr>\n",
              "<tr>\n",
              "  <th>Covariance Type:</th>      <td>nonrobust</td>    <th>                     </th>     <td> </td>   \n",
              "</tr>\n",
              "</table>\n",
              "<table class=\"simpletable\">\n",
              "<tr>\n",
              "    <td></td>       <th>coef</th>     <th>std err</th>      <th>t</th>      <th>P>|t|</th>  <th>[0.025</th>    <th>0.975]</th>  \n",
              "</tr>\n",
              "<tr>\n",
              "  <th>const</th> <td> 1340.1506</td> <td>  292.598</td> <td>    4.580</td> <td> 0.000</td> <td>  719.870</td> <td> 1960.431</td>\n",
              "</tr>\n",
              "<tr>\n",
              "  <th>X1</th>    <td>   -0.1735</td> <td>    0.381</td> <td>   -0.455</td> <td> 0.655</td> <td>   -0.981</td> <td>    0.634</td>\n",
              "</tr>\n",
              "<tr>\n",
              "  <th>X2</th>    <td>   -2.8062</td> <td>    5.379</td> <td>   -0.522</td> <td> 0.609</td> <td>  -14.210</td> <td>    8.598</td>\n",
              "</tr>\n",
              "<tr>\n",
              "  <th>X12</th>   <td>    0.0525</td> <td>    0.007</td> <td>    7.590</td> <td> 0.000</td> <td>    0.038</td> <td>    0.067</td>\n",
              "</tr>\n",
              "</table>\n",
              "<table class=\"simpletable\">\n",
              "<tr>\n",
              "  <th>Omnibus:</th>       <td> 2.452</td> <th>  Durbin-Watson:     </th> <td>   1.397</td>\n",
              "</tr>\n",
              "<tr>\n",
              "  <th>Prob(Omnibus):</th> <td> 0.294</td> <th>  Jarque-Bera (JB):  </th> <td>   1.582</td>\n",
              "</tr>\n",
              "<tr>\n",
              "  <th>Skew:</th>          <td>-0.457</td> <th>  Prob(JB):          </th> <td>   0.453</td>\n",
              "</tr>\n",
              "<tr>\n",
              "  <th>Kurtosis:</th>      <td> 1.969</td> <th>  Cond. No.          </th> <td>3.01e+05</td>\n",
              "</tr>\n",
              "</table><br/><br/>Warnings:<br/>[1] Standard Errors assume that the covariance matrix of the errors is correctly specified.<br/>[2] The condition number is large, 3.01e+05. This might indicate that there are<br/>strong multicollinearity or other numerical problems."
            ],
            "text/plain": [
              "<class 'statsmodels.iolib.summary.Summary'>\n",
              "\"\"\"\n",
              "                            OLS Regression Results                            \n",
              "==============================================================================\n",
              "Dep. Variable:                 Y        R-squared:                       0.978\n",
              "Model:                            OLS   Adj. R-squared:                  0.974\n",
              "Method:                 Least Squares   F-statistic:                     239.4\n",
              "Date:                Fri, 05 Mar 2021   Prob (F-statistic):           1.68e-13\n",
              "Time:                        15:35:25   Log-Likelihood:                -131.03\n",
              "No. Observations:                  20   AIC:                             270.1\n",
              "Df Residuals:                      16   BIC:                             274.0\n",
              "Df Model:                           3                                         \n",
              "Covariance Type:            nonrobust                                         \n",
              "==============================================================================\n",
              "                 coef    std err          t      P>|t|      [0.025      0.975]\n",
              "------------------------------------------------------------------------------\n",
              "const       1340.1506    292.598      4.580      0.000     719.870    1960.431\n",
              "X1            -0.1735      0.381     -0.455      0.655      -0.981       0.634\n",
              "X2            -2.8062      5.379     -0.522      0.609     -14.210       8.598\n",
              "X12            0.0525      0.007      7.590      0.000       0.038       0.067\n",
              "==============================================================================\n",
              "Omnibus:                        2.452   Durbin-Watson:                   1.397\n",
              "Prob(Omnibus):                  0.294   Jarque-Bera (JB):                1.582\n",
              "Skew:                          -0.457   Prob(JB):                        0.453\n",
              "Kurtosis:                       1.969   Cond. No.                     3.01e+05\n",
              "==============================================================================\n",
              "\n",
              "Warnings:\n",
              "[1] Standard Errors assume that the covariance matrix of the errors is correctly specified.\n",
              "[2] The condition number is large, 3.01e+05. This might indicate that there are\n",
              "strong multicollinearity or other numerical problems.\n",
              "\"\"\""
            ]
          },
          "metadata": {
            "tags": []
          },
          "execution_count": 9
        }
      ]
    },
    {
      "cell_type": "code",
      "metadata": {
        "colab": {
          "base_uri": "https://localhost:8080/"
        },
        "id": "tNoSyhf6w6Fh",
        "outputId": "ed0a83f9-47fc-4f81-d07d-bda309da42dc"
      },
      "source": [
        "print('Model II Regression equation: 1340.1506 - 0.1735*X1 - 2.8062*X2 + 0.0525*X1*X2')\r\n"
      ],
      "execution_count": 10,
      "outputs": [
        {
          "output_type": "stream",
          "text": [
            "Model II Regression equation: 1340.1506 - 0.1735*X1 - 2.8062*X2 + 0.0525*X1*X2\n"
          ],
          "name": "stdout"
        }
      ]
    },
    {
      "cell_type": "code",
      "metadata": {
        "colab": {
          "base_uri": "https://localhost:8080/",
          "height": 559
        },
        "id": "k9BLol9K39iM",
        "outputId": "236a6201-88a1-4dd0-9024-8133174f0e3f"
      },
      "source": [
        "X3 = df[['X1','X2','X12','X1SQ','X2SQ']]\r\n",
        "\r\n",
        "c = sm.add_constant(X3)\r\n",
        "\r\n",
        "ModelIII = sm.OLS(Y,c).fit()\r\n",
        "ModelIII.summary()"
      ],
      "execution_count": 11,
      "outputs": [
        {
          "output_type": "execute_result",
          "data": {
            "text/html": [
              "<table class=\"simpletable\">\n",
              "<caption>OLS Regression Results</caption>\n",
              "<tr>\n",
              "  <th>Dep. Variable:</th>        <td>  Y     </td>     <th>  R-squared:         </th> <td>   0.986</td>\n",
              "</tr>\n",
              "<tr>\n",
              "  <th>Model:</th>                   <td>OLS</td>       <th>  Adj. R-squared:    </th> <td>   0.981</td>\n",
              "</tr>\n",
              "<tr>\n",
              "  <th>Method:</th>             <td>Least Squares</td>  <th>  F-statistic:       </th> <td>   199.4</td>\n",
              "</tr>\n",
              "<tr>\n",
              "  <th>Date:</th>             <td>Fri, 05 Mar 2021</td> <th>  Prob (F-statistic):</th> <td>1.71e-12</td>\n",
              "</tr>\n",
              "<tr>\n",
              "  <th>Time:</th>                 <td>15:35:25</td>     <th>  Log-Likelihood:    </th> <td> -126.50</td>\n",
              "</tr>\n",
              "<tr>\n",
              "  <th>No. Observations:</th>      <td>    20</td>      <th>  AIC:               </th> <td>   265.0</td>\n",
              "</tr>\n",
              "<tr>\n",
              "  <th>Df Residuals:</th>          <td>    14</td>      <th>  BIC:               </th> <td>   271.0</td>\n",
              "</tr>\n",
              "<tr>\n",
              "  <th>Df Model:</th>              <td>     5</td>      <th>                     </th>     <td> </td>   \n",
              "</tr>\n",
              "<tr>\n",
              "  <th>Covariance Type:</th>      <td>nonrobust</td>    <th>                     </th>     <td> </td>   \n",
              "</tr>\n",
              "</table>\n",
              "<table class=\"simpletable\">\n",
              "<tr>\n",
              "    <td></td>       <th>coef</th>     <th>std err</th>      <th>t</th>      <th>P>|t|</th>  <th>[0.025</th>    <th>0.975]</th>  \n",
              "</tr>\n",
              "<tr>\n",
              "  <th>const</th> <td> 2405.7779</td> <td>  495.491</td> <td>    4.855</td> <td> 0.000</td> <td> 1343.055</td> <td> 3468.501</td>\n",
              "</tr>\n",
              "<tr>\n",
              "  <th>X1</th>    <td>   -1.5734</td> <td>    0.680</td> <td>   -2.315</td> <td> 0.036</td> <td>   -3.031</td> <td>   -0.115</td>\n",
              "</tr>\n",
              "<tr>\n",
              "  <th>X2</th>    <td>  -32.4259</td> <td>   17.270</td> <td>   -1.878</td> <td> 0.081</td> <td>  -69.466</td> <td>    4.614</td>\n",
              "</tr>\n",
              "<tr>\n",
              "  <th>X12</th>   <td>    0.0542</td> <td>    0.006</td> <td>    9.092</td> <td> 0.000</td> <td>    0.041</td> <td>    0.067</td>\n",
              "</tr>\n",
              "<tr>\n",
              "  <th>X1SQ</th>  <td>    0.0010</td> <td>    0.000</td> <td>    2.379</td> <td> 0.032</td> <td> 9.37e-05</td> <td>    0.002</td>\n",
              "</tr>\n",
              "<tr>\n",
              "  <th>X2SQ</th>  <td>    0.2684</td> <td>    0.158</td> <td>    1.695</td> <td> 0.112</td> <td>   -0.071</td> <td>    0.608</td>\n",
              "</tr>\n",
              "</table>\n",
              "<table class=\"simpletable\">\n",
              "<tr>\n",
              "  <th>Omnibus:</th>       <td> 0.504</td> <th>  Durbin-Watson:     </th> <td>   1.835</td>\n",
              "</tr>\n",
              "<tr>\n",
              "  <th>Prob(Omnibus):</th> <td> 0.777</td> <th>  Jarque-Bera (JB):  </th> <td>   0.589</td>\n",
              "</tr>\n",
              "<tr>\n",
              "  <th>Skew:</th>          <td> 0.295</td> <th>  Prob(JB):          </th> <td>   0.745</td>\n",
              "</tr>\n",
              "<tr>\n",
              "  <th>Kurtosis:</th>      <td> 2.402</td> <th>  Cond. No.          </th> <td>1.06e+07</td>\n",
              "</tr>\n",
              "</table><br/><br/>Warnings:<br/>[1] Standard Errors assume that the covariance matrix of the errors is correctly specified.<br/>[2] The condition number is large, 1.06e+07. This might indicate that there are<br/>strong multicollinearity or other numerical problems."
            ],
            "text/plain": [
              "<class 'statsmodels.iolib.summary.Summary'>\n",
              "\"\"\"\n",
              "                            OLS Regression Results                            \n",
              "==============================================================================\n",
              "Dep. Variable:                 Y        R-squared:                       0.986\n",
              "Model:                            OLS   Adj. R-squared:                  0.981\n",
              "Method:                 Least Squares   F-statistic:                     199.4\n",
              "Date:                Fri, 05 Mar 2021   Prob (F-statistic):           1.71e-12\n",
              "Time:                        15:35:25   Log-Likelihood:                -126.50\n",
              "No. Observations:                  20   AIC:                             265.0\n",
              "Df Residuals:                      14   BIC:                             271.0\n",
              "Df Model:                           5                                         \n",
              "Covariance Type:            nonrobust                                         \n",
              "==============================================================================\n",
              "                 coef    std err          t      P>|t|      [0.025      0.975]\n",
              "------------------------------------------------------------------------------\n",
              "const       2405.7779    495.491      4.855      0.000    1343.055    3468.501\n",
              "X1            -1.5734      0.680     -2.315      0.036      -3.031      -0.115\n",
              "X2           -32.4259     17.270     -1.878      0.081     -69.466       4.614\n",
              "X12            0.0542      0.006      9.092      0.000       0.041       0.067\n",
              "X1SQ           0.0010      0.000      2.379      0.032    9.37e-05       0.002\n",
              "X2SQ           0.2684      0.158      1.695      0.112      -0.071       0.608\n",
              "==============================================================================\n",
              "Omnibus:                        0.504   Durbin-Watson:                   1.835\n",
              "Prob(Omnibus):                  0.777   Jarque-Bera (JB):                0.589\n",
              "Skew:                           0.295   Prob(JB):                        0.745\n",
              "Kurtosis:                       2.402   Cond. No.                     1.06e+07\n",
              "==============================================================================\n",
              "\n",
              "Warnings:\n",
              "[1] Standard Errors assume that the covariance matrix of the errors is correctly specified.\n",
              "[2] The condition number is large, 1.06e+07. This might indicate that there are\n",
              "strong multicollinearity or other numerical problems.\n",
              "\"\"\""
            ]
          },
          "metadata": {
            "tags": []
          },
          "execution_count": 11
        }
      ]
    },
    {
      "cell_type": "code",
      "metadata": {
        "colab": {
          "base_uri": "https://localhost:8080/"
        },
        "id": "nVdar3bQxN1j",
        "outputId": "c0654756-34c4-4c1a-d506-3fe5a0233861"
      },
      "source": [
        "print('Model III Regression equation: 2405.7779 - 1.5734*X1 - 32.4259*X2 + 0.0542*X1*X2 + 0.0010*X1SQ + 0.2684*X2SQ')\r\n"
      ],
      "execution_count": 12,
      "outputs": [
        {
          "output_type": "stream",
          "text": [
            "Model III Regression equation: 2405.7779 - 1.5734*X1 - 32.4259*X2 + 0.0542*X1*X2 + 0.0010*X1SQ + 0.2684*X2SQ\n"
          ],
          "name": "stdout"
        }
      ]
    },
    {
      "cell_type": "code",
      "metadata": {
        "colab": {
          "base_uri": "https://localhost:8080/",
          "height": 539
        },
        "id": "8En9kyqC4Gbi",
        "outputId": "b94436da-c3c5-4177-eec3-40ab4f0e13d4"
      },
      "source": [
        "X4 = df[['X1','X2','X12','X1SQ']]\r\n",
        "\r\n",
        "d = sm.add_constant(X4)\r\n",
        "\r\n",
        "ModelIV = sm.OLS(Y,d).fit()\r\n",
        "ModelIV.summary()"
      ],
      "execution_count": 13,
      "outputs": [
        {
          "output_type": "execute_result",
          "data": {
            "text/html": [
              "<table class=\"simpletable\">\n",
              "<caption>OLS Regression Results</caption>\n",
              "<tr>\n",
              "  <th>Dep. Variable:</th>        <td>  Y     </td>     <th>  R-squared:         </th> <td>   0.983</td>\n",
              "</tr>\n",
              "<tr>\n",
              "  <th>Model:</th>                   <td>OLS</td>       <th>  Adj. R-squared:    </th> <td>   0.979</td>\n",
              "</tr>\n",
              "<tr>\n",
              "  <th>Method:</th>             <td>Least Squares</td>  <th>  F-statistic:       </th> <td>   220.9</td>\n",
              "</tr>\n",
              "<tr>\n",
              "  <th>Date:</th>             <td>Fri, 05 Mar 2021</td> <th>  Prob (F-statistic):</th> <td>3.91e-13</td>\n",
              "</tr>\n",
              "<tr>\n",
              "  <th>Time:</th>                 <td>15:35:25</td>     <th>  Log-Likelihood:    </th> <td> -128.36</td>\n",
              "</tr>\n",
              "<tr>\n",
              "  <th>No. Observations:</th>      <td>    20</td>      <th>  AIC:               </th> <td>   266.7</td>\n",
              "</tr>\n",
              "<tr>\n",
              "  <th>Df Residuals:</th>          <td>    15</td>      <th>  BIC:               </th> <td>   271.7</td>\n",
              "</tr>\n",
              "<tr>\n",
              "  <th>Df Model:</th>              <td>     4</td>      <th>                     </th>     <td> </td>   \n",
              "</tr>\n",
              "<tr>\n",
              "  <th>Covariance Type:</th>      <td>nonrobust</td>    <th>                     </th>     <td> </td>   \n",
              "</tr>\n",
              "</table>\n",
              "<table class=\"simpletable\">\n",
              "<tr>\n",
              "    <td></td>       <th>coef</th>     <th>std err</th>      <th>t</th>      <th>P>|t|</th>  <th>[0.025</th>    <th>0.975]</th>  \n",
              "</tr>\n",
              "<tr>\n",
              "  <th>const</th> <td> 1746.3777</td> <td>  325.522</td> <td>    5.365</td> <td> 0.000</td> <td> 1052.544</td> <td> 2440.211</td>\n",
              "</tr>\n",
              "<tr>\n",
              "  <th>X1</th>    <td>   -1.5279</td> <td>    0.720</td> <td>   -2.121</td> <td> 0.051</td> <td>   -3.063</td> <td>    0.008</td>\n",
              "</tr>\n",
              "<tr>\n",
              "  <th>X2</th>    <td>   -4.2211</td> <td>    4.907</td> <td>   -0.860</td> <td> 0.403</td> <td>  -14.681</td> <td>    6.238</td>\n",
              "</tr>\n",
              "<tr>\n",
              "  <th>X12</th>   <td>    0.0545</td> <td>    0.006</td> <td>    8.616</td> <td> 0.000</td> <td>    0.041</td> <td>    0.068</td>\n",
              "</tr>\n",
              "<tr>\n",
              "  <th>X1SQ</th>  <td>    0.0009</td> <td>    0.000</td> <td>    2.141</td> <td> 0.049</td> <td> 3.89e-06</td> <td>    0.002</td>\n",
              "</tr>\n",
              "</table>\n",
              "<table class=\"simpletable\">\n",
              "<tr>\n",
              "  <th>Omnibus:</th>       <td> 0.481</td> <th>  Durbin-Watson:     </th> <td>   1.617</td>\n",
              "</tr>\n",
              "<tr>\n",
              "  <th>Prob(Omnibus):</th> <td> 0.786</td> <th>  Jarque-Bera (JB):  </th> <td>   0.590</td>\n",
              "</tr>\n",
              "<tr>\n",
              "  <th>Skew:</th>          <td> 0.255</td> <th>  Prob(JB):          </th> <td>   0.745</td>\n",
              "</tr>\n",
              "<tr>\n",
              "  <th>Kurtosis:</th>      <td> 2.330</td> <th>  Cond. No.          </th> <td>6.54e+06</td>\n",
              "</tr>\n",
              "</table><br/><br/>Warnings:<br/>[1] Standard Errors assume that the covariance matrix of the errors is correctly specified.<br/>[2] The condition number is large, 6.54e+06. This might indicate that there are<br/>strong multicollinearity or other numerical problems."
            ],
            "text/plain": [
              "<class 'statsmodels.iolib.summary.Summary'>\n",
              "\"\"\"\n",
              "                            OLS Regression Results                            \n",
              "==============================================================================\n",
              "Dep. Variable:                 Y        R-squared:                       0.983\n",
              "Model:                            OLS   Adj. R-squared:                  0.979\n",
              "Method:                 Least Squares   F-statistic:                     220.9\n",
              "Date:                Fri, 05 Mar 2021   Prob (F-statistic):           3.91e-13\n",
              "Time:                        15:35:25   Log-Likelihood:                -128.36\n",
              "No. Observations:                  20   AIC:                             266.7\n",
              "Df Residuals:                      15   BIC:                             271.7\n",
              "Df Model:                           4                                         \n",
              "Covariance Type:            nonrobust                                         \n",
              "==============================================================================\n",
              "                 coef    std err          t      P>|t|      [0.025      0.975]\n",
              "------------------------------------------------------------------------------\n",
              "const       1746.3777    325.522      5.365      0.000    1052.544    2440.211\n",
              "X1            -1.5279      0.720     -2.121      0.051      -3.063       0.008\n",
              "X2            -4.2211      4.907     -0.860      0.403     -14.681       6.238\n",
              "X12            0.0545      0.006      8.616      0.000       0.041       0.068\n",
              "X1SQ           0.0009      0.000      2.141      0.049    3.89e-06       0.002\n",
              "==============================================================================\n",
              "Omnibus:                        0.481   Durbin-Watson:                   1.617\n",
              "Prob(Omnibus):                  0.786   Jarque-Bera (JB):                0.590\n",
              "Skew:                           0.255   Prob(JB):                        0.745\n",
              "Kurtosis:                       2.330   Cond. No.                     6.54e+06\n",
              "==============================================================================\n",
              "\n",
              "Warnings:\n",
              "[1] Standard Errors assume that the covariance matrix of the errors is correctly specified.\n",
              "[2] The condition number is large, 6.54e+06. This might indicate that there are\n",
              "strong multicollinearity or other numerical problems.\n",
              "\"\"\""
            ]
          },
          "metadata": {
            "tags": []
          },
          "execution_count": 13
        }
      ]
    },
    {
      "cell_type": "code",
      "metadata": {
        "colab": {
          "base_uri": "https://localhost:8080/"
        },
        "id": "EvqhC9DGxkza",
        "outputId": "d87c39d8-8bca-42fb-e76e-98d75c40b9aa"
      },
      "source": [
        "print('Model IV Regression equation: 1746.3777 - 1.5279*X1 - 4.2211*X2 + 0.0545*X1*X2 + 0.0009*X1SQ')\r\n"
      ],
      "execution_count": 14,
      "outputs": [
        {
          "output_type": "stream",
          "text": [
            "Model IV Regression equation: 1746.3777 - 1.5279*X1 - 4.2211*X2 + 0.0545*X1*X2 + 0.0009*X1SQ\n"
          ],
          "name": "stdout"
        }
      ]
    },
    {
      "cell_type": "code",
      "metadata": {
        "colab": {
          "base_uri": "https://localhost:8080/"
        },
        "id": "jfVA8S73zcMq",
        "outputId": "6d422414-f88f-424d-fedc-b8d344bd622f"
      },
      "source": [
        "print('Model I Regression equation:   -566.4182+2.5509*X1+34.2847*X2')\r\n",
        "print('Model II Regression equation:   1340.1506 - 0.1735*X1 - 2.8062*X2 + 0.0525*X1*X2')\r\n",
        "print('Model III Regression equation:  2405.7779 - 1.5734*X1 - 32.4259*X2 + 0.0542*X1*X2 + 0.0010*X1SQ + 0.2684*X2SQ')\r\n",
        "print('Model IV Regression equation:   1746.3777 - 1.5279*X1 - 4.2211*X2 + 0.0545*X1*X2 + 0.0009*X1SQ')\r\n"
      ],
      "execution_count": 15,
      "outputs": [
        {
          "output_type": "stream",
          "text": [
            "Model I Regression equation:   -566.4182+2.5509*X1+34.2847*X2\n",
            "Model II Regression equation:   1340.1506 - 0.1735*X1 - 2.8062*X2 + 0.0525*X1*X2\n",
            "Model III Regression equation:  2405.7779 - 1.5734*X1 - 32.4259*X2 + 0.0542*X1*X2 + 0.0010*X1SQ + 0.2684*X2SQ\n",
            "Model IV Regression equation:   1746.3777 - 1.5279*X1 - 4.2211*X2 + 0.0545*X1*X2 + 0.0009*X1SQ\n"
          ],
          "name": "stdout"
        }
      ]
    },
    {
      "cell_type": "markdown",
      "metadata": {
        "id": "K-vFSTTlx1PW"
      },
      "source": [
        "#B)\r\n",
        "Construct F-test to investigate the overall usefulness of each of the four models. (4 Points)"
      ]
    },
    {
      "cell_type": "code",
      "metadata": {
        "colab": {
          "base_uri": "https://localhost:8080/"
        },
        "id": "qUh0HSGCIg6F",
        "outputId": "34528bf8-39ba-4edf-c7c0-b3b5b12b98bc"
      },
      "source": [
        "print('Model I f-statistic:', ModelI.fvalue)\r\n",
        "print('Model I f-test p-value:', ModelI.f_pvalue)\r\n",
        "\r\n",
        "print('Model II f-statistic:', ModelII.fvalue)\r\n",
        "print('Model II f-test p-value:', ModelII.f_pvalue)\r\n",
        "\r\n",
        "print('Model III f-statistic:', ModelIII.fvalue)\r\n",
        "print('Model III f-test p-value:', ModelIII.f_pvalue)\r\n",
        "\r\n",
        "print('Model IV f-statistic:', ModelIV.fvalue)\r\n",
        "print('Model IV f-test p-value:', ModelIV.f_pvalue)\r\n",
        "\r\n",
        "print('Using an alpha value of .05, all models\\' p-values are less than alpha.')\r\n",
        "print('Therefore, the models are significant')"
      ],
      "execution_count": 16,
      "outputs": [
        {
          "output_type": "stream",
          "text": [
            "Model I f-statistic: 76.27922675249103\n",
            "Model I f-test p-value: 3.232961505938132e-09\n",
            "Model II f-statistic: 239.40197692199862\n",
            "Model II f-test p-value: 1.681575683291232e-13\n",
            "Model III f-statistic: 199.36562562619056\n",
            "Model III f-test p-value: 1.7090657527234123e-12\n",
            "Model IV f-statistic: 220.89750506454655\n",
            "Model IV f-test p-value: 3.9079334113062975e-13\n",
            "Using an alpha value of .05, all models' p-values are less than alpha.\n",
            "Therefore, the models are significant\n"
          ],
          "name": "stdout"
        }
      ]
    },
    {
      "cell_type": "markdown",
      "metadata": {
        "id": "R93U1hjSzJXU"
      },
      "source": [
        "#C)\r\n",
        "Does the interaction term (X12) contribute information for the prediction of sales? You can answer this question by perform the t-test using information provided by Model II. (4 Points)"
      ]
    },
    {
      "cell_type": "code",
      "metadata": {
        "colab": {
          "base_uri": "https://localhost:8080/"
        },
        "id": "Riu9XBQhzOfx",
        "outputId": "6270b23e-0fae-45be-a4b1-16972161ff8e"
      },
      "source": [
        "\r\n",
        "print(\"H0: β3 = 0\")\r\n",
        "print(\"H1: β3 =/ 0\")\r\n",
        "print('t = 7.59   p-value = .007')\r\n",
        "print('Using an alpha value of .05, the p-value is less than alpha and β3 is not equal to zero.')\r\n",
        "print('Therefore, the interaction term is significant to the model')"
      ],
      "execution_count": 17,
      "outputs": [
        {
          "output_type": "stream",
          "text": [
            "H0: β3 = 0\n",
            "H1: β3 =/ 0\n",
            "t = 7.59   p-value = .007\n",
            "Using an alpha value of .05, the p-value is less than alpha and β3 is not equal to zero.\n",
            "Therefore, the interaction term is significant to the model\n"
          ],
          "name": "stdout"
        }
      ]
    },
    {
      "cell_type": "markdown",
      "metadata": {
        "id": "lydTu3QV1OPl"
      },
      "source": [
        "#D)\r\n",
        " Does the term X2SQ contribute information for the prediction of sales? You can answer this question by perform the t-test using information provided by Model III. (4 Points)"
      ]
    },
    {
      "cell_type": "code",
      "metadata": {
        "colab": {
          "base_uri": "https://localhost:8080/"
        },
        "id": "W1ADAeqd1XRP",
        "outputId": "7ca1cdd6-ccc9-4e75-e0e9-d283933e6808"
      },
      "source": [
        "print(\"H0: β5 = 0\")\r\n",
        "print(\"H1: β5 =/ 0\")\r\n",
        "print('t = 1.695   p-value =\t0.112')\r\n",
        "print('Using an alpha value of .05, the p-value is greater than alpha so we do not reject the null hypothesis')\r\n",
        "print('We cannot say that β5 is not equal to zero.')\r\n",
        "print('Therefore, we cannot say the interaction term is significant to the model')"
      ],
      "execution_count": 18,
      "outputs": [
        {
          "output_type": "stream",
          "text": [
            "H0: β5 = 0\n",
            "H1: β5 =/ 0\n",
            "t = 1.695   p-value =\t0.112\n",
            "Using an alpha value of .05, the p-value is greater than alpha so we do not reject the null hypothesis\n",
            "We cannot say that β5 is not equal to zero.\n",
            "Therefore, we cannot say the interaction term is significant to the model\n"
          ],
          "name": "stdout"
        }
      ]
    },
    {
      "cell_type": "markdown",
      "metadata": {
        "id": "elBxTV99-Q37"
      },
      "source": [
        "# E)\r\n",
        "Use the F procedure discussed in PART IV of Example I in lecture to compare Model II and Model III.  Which model is better? (4 Points)"
      ]
    },
    {
      "cell_type": "code",
      "metadata": {
        "colab": {
          "base_uri": "https://localhost:8080/",
          "height": 110
        },
        "id": "9q9hLW_6-kmi",
        "outputId": "d98cdf22-e492-4e09-824f-a10e4420e8b8"
      },
      "source": [
        "from statsmodels.stats.anova import anova_lm\r\n",
        "\r\n",
        "anova_lm(ModelII, ModelIII)\r\n",
        "\r\n"
      ],
      "execution_count": 21,
      "outputs": [
        {
          "output_type": "execute_result",
          "data": {
            "text/html": [
              "<div>\n",
              "<style scoped>\n",
              "    .dataframe tbody tr th:only-of-type {\n",
              "        vertical-align: middle;\n",
              "    }\n",
              "\n",
              "    .dataframe tbody tr th {\n",
              "        vertical-align: top;\n",
              "    }\n",
              "\n",
              "    .dataframe thead th {\n",
              "        text-align: right;\n",
              "    }\n",
              "</style>\n",
              "<table border=\"1\" class=\"dataframe\">\n",
              "  <thead>\n",
              "    <tr style=\"text-align: right;\">\n",
              "      <th></th>\n",
              "      <th>df_resid</th>\n",
              "      <th>ssr</th>\n",
              "      <th>df_diff</th>\n",
              "      <th>ss_diff</th>\n",
              "      <th>F</th>\n",
              "      <th>Pr(&gt;F)</th>\n",
              "    </tr>\n",
              "  </thead>\n",
              "  <tbody>\n",
              "    <tr>\n",
              "      <th>0</th>\n",
              "      <td>16.0</td>\n",
              "      <td>574302.769197</td>\n",
              "      <td>0.0</td>\n",
              "      <td>NaN</td>\n",
              "      <td>NaN</td>\n",
              "      <td>NaN</td>\n",
              "    </tr>\n",
              "    <tr>\n",
              "      <th>1</th>\n",
              "      <td>14.0</td>\n",
              "      <td>364997.200347</td>\n",
              "      <td>2.0</td>\n",
              "      <td>209305.56885</td>\n",
              "      <td>4.01411</td>\n",
              "      <td>0.041883</td>\n",
              "    </tr>\n",
              "  </tbody>\n",
              "</table>\n",
              "</div>"
            ],
            "text/plain": [
              "   df_resid            ssr  df_diff       ss_diff        F    Pr(>F)\n",
              "0      16.0  574302.769197      0.0           NaN      NaN       NaN\n",
              "1      14.0  364997.200347      2.0  209305.56885  4.01411  0.041883"
            ]
          },
          "metadata": {
            "tags": []
          },
          "execution_count": 21
        }
      ]
    },
    {
      "cell_type": "code",
      "metadata": {
        "colab": {
          "base_uri": "https://localhost:8080/"
        },
        "id": "51hGU2ocDHjx",
        "outputId": "f78ea2f4-ce9b-4f6c-c2db-8b5c114b3457"
      },
      "source": [
        "print(\"At alpha = .05, the F test shows that Model III is significantly better than Model II\")"
      ],
      "execution_count": 24,
      "outputs": [
        {
          "output_type": "stream",
          "text": [
            "At alpha = .05, the F test shows that Model III is significantly better than Model II\n"
          ],
          "name": "stdout"
        }
      ]
    },
    {
      "cell_type": "markdown",
      "metadata": {
        "id": "y0F0hLBc-k1Z"
      },
      "source": [
        "# F)\r\n",
        "\r\n",
        "Use the F procedure discussed in PART IV of Example I in lecture to compare Model III and Model IV.  Which model is better? (4 Points)"
      ]
    },
    {
      "cell_type": "code",
      "metadata": {
        "colab": {
          "base_uri": "https://localhost:8080/",
          "height": 110
        },
        "id": "tBUmkE2hCXwQ",
        "outputId": "03d40512-4ce6-4642-c1db-8c2c3f9de7b7"
      },
      "source": [
        "anova_lm(ModelIV, ModelIII)\r\n",
        "\r\n"
      ],
      "execution_count": 26,
      "outputs": [
        {
          "output_type": "execute_result",
          "data": {
            "text/html": [
              "<div>\n",
              "<style scoped>\n",
              "    .dataframe tbody tr th:only-of-type {\n",
              "        vertical-align: middle;\n",
              "    }\n",
              "\n",
              "    .dataframe tbody tr th {\n",
              "        vertical-align: top;\n",
              "    }\n",
              "\n",
              "    .dataframe thead th {\n",
              "        text-align: right;\n",
              "    }\n",
              "</style>\n",
              "<table border=\"1\" class=\"dataframe\">\n",
              "  <thead>\n",
              "    <tr style=\"text-align: right;\">\n",
              "      <th></th>\n",
              "      <th>df_resid</th>\n",
              "      <th>ssr</th>\n",
              "      <th>df_diff</th>\n",
              "      <th>ss_diff</th>\n",
              "      <th>F</th>\n",
              "      <th>Pr(&gt;F)</th>\n",
              "    </tr>\n",
              "  </thead>\n",
              "  <tbody>\n",
              "    <tr>\n",
              "      <th>0</th>\n",
              "      <td>15.0</td>\n",
              "      <td>439914.709810</td>\n",
              "      <td>0.0</td>\n",
              "      <td>NaN</td>\n",
              "      <td>NaN</td>\n",
              "      <td>NaN</td>\n",
              "    </tr>\n",
              "    <tr>\n",
              "      <th>1</th>\n",
              "      <td>14.0</td>\n",
              "      <td>364997.200347</td>\n",
              "      <td>1.0</td>\n",
              "      <td>74917.509463</td>\n",
              "      <td>2.87357</td>\n",
              "      <td>0.112161</td>\n",
              "    </tr>\n",
              "  </tbody>\n",
              "</table>\n",
              "</div>"
            ],
            "text/plain": [
              "   df_resid            ssr  df_diff       ss_diff        F    Pr(>F)\n",
              "0      15.0  439914.709810      0.0           NaN      NaN       NaN\n",
              "1      14.0  364997.200347      1.0  74917.509463  2.87357  0.112161"
            ]
          },
          "metadata": {
            "tags": []
          },
          "execution_count": 26
        }
      ]
    },
    {
      "cell_type": "code",
      "metadata": {
        "colab": {
          "base_uri": "https://localhost:8080/"
        },
        "id": "aUE4s9k1DmpI",
        "outputId": "4c49a99e-8548-4804-be19-3bd9c066b16f"
      },
      "source": [
        "print(\"At alpha = .05, the F test shows that Model III is not significantly better than Model IV\")\r\n"
      ],
      "execution_count": 27,
      "outputs": [
        {
          "output_type": "stream",
          "text": [
            "At alpha = .05, the F test shows that Model III is significantly better than Model II\n"
          ],
          "name": "stdout"
        }
      ]
    }
  ]
}