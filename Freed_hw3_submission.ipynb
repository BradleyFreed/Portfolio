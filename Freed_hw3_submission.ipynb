{
 "cells": [
  {
   "cell_type": "markdown",
   "id": "placed-white",
   "metadata": {},
   "source": [
    "# Homework Assignment 3\n",
    "\n",
    "Bradley Freed"
   ]
  },
  {
   "cell_type": "code",
   "execution_count": 1,
   "id": "rubber-chinese",
   "metadata": {},
   "outputs": [],
   "source": [
    "import pandas  as pd\n",
    "import numpy as np\n",
    "\n",
    "from  sklearn.preprocessing  import  MinMaxScaler\n",
    "from  sklearn.model_selection  import  train_test_split\n",
    "from  sklearn.metrics  import  mean_squared_error\n",
    "from  sklearn.metrics  import  r2_score\n",
    "from  sklearn.metrics  import  accuracy_score\n",
    "\n",
    "\n",
    "filename = r\"C:\\Users\\Brad\\Downloads\\AMZN.csv\"\n",
    "data = pd.read_csv(filename)\n",
    "\n",
    "data_select = data[['Adj Close']]\n",
    "values= data_select.values\n"
   ]
  },
  {
   "cell_type": "markdown",
   "id": "whole-compression",
   "metadata": {},
   "source": [
    "## Problem 1(a\n",
    "\n",
    "Transform the closing price data into time series data for 10 days."
   ]
  },
  {
   "cell_type": "code",
   "execution_count": 2,
   "id": "extreme-reservation",
   "metadata": {},
   "outputs": [],
   "source": [
    "def  series_to_supervised(data , n_in=1, n_out=1, dropnan=True):\n",
    "    n_vars = 1 if type(data) is list  else  data.shape[1]\n",
    "    df = pd.DataFrame(data)\n",
    "    cols , names = list(), list()\n",
    "    # input  sequence (t-n, ... t-1)\n",
    "    for i in  range(n_in , 0, -1):\n",
    "        cols.append(df.shift(i))\n",
    "        names += [('var%d(t-%d)'% (j+1, i)) for j in  range(n_vars)]\n",
    "    # forecast  sequence (t, t+1, ... t+n)\n",
    "    for i in  range(0, n_out):\n",
    "        cols.append(df.shift(-i))\n",
    "        if i == 0:\n",
    "            names += [('var%d(t)'% (j+1)) for j in  range(n_vars)]\n",
    "        else:\n",
    "            names += [('var%d(t+%d)'% (j+1, i)) for j in  range(n_vars)]\n",
    "    # put it all  together\n",
    "    agg = pd.concat(cols , axis=1)\n",
    "    agg.columns = names\n",
    "    # drop  rows  with  NaN  values\n",
    "    if  dropnan:\n",
    "        agg.dropna(inplace=True)\n",
    "    return  agg"
   ]
  },
  {
   "cell_type": "code",
   "execution_count": 3,
   "id": "novel-fields",
   "metadata": {},
   "outputs": [
    {
     "name": "stdout",
     "output_type": "stream",
     "text": [
      "       var1(t-10)    var1(t-9)    var1(t-8)    var1(t-7)    var1(t-6)  \\\n",
      "10       1.958333     1.729167     1.708333     1.635417     1.427083   \n",
      "11       1.729167     1.708333     1.635417     1.427083     1.395833   \n",
      "12       1.708333     1.635417     1.427083     1.395833     1.500000   \n",
      "13       1.635417     1.427083     1.395833     1.500000     1.583333   \n",
      "14       1.427083     1.395833     1.500000     1.583333     1.531250   \n",
      "...           ...          ...          ...          ...          ...   \n",
      "5753  1676.609985  1785.000000  1689.150024  1807.839966  1830.000000   \n",
      "5754  1785.000000  1689.150024  1807.839966  1830.000000  1880.930054   \n",
      "5755  1689.150024  1807.839966  1830.000000  1880.930054  1846.089966   \n",
      "5756  1807.839966  1830.000000  1880.930054  1846.089966  1902.829956   \n",
      "5757  1830.000000  1880.930054  1846.089966  1902.829956  1940.099976   \n",
      "\n",
      "        var1(t-5)    var1(t-4)    var1(t-3)    var1(t-2)    var1(t-1)  \\\n",
      "10       1.395833     1.500000     1.583333     1.531250     1.505208   \n",
      "11       1.500000     1.583333     1.531250     1.505208     1.500000   \n",
      "12       1.583333     1.531250     1.505208     1.500000     1.510417   \n",
      "13       1.531250     1.505208     1.500000     1.510417     1.479167   \n",
      "14       1.505208     1.500000     1.510417     1.479167     1.416667   \n",
      "...           ...          ...          ...          ...          ...   \n",
      "5753  1880.930054  1846.089966  1902.829956  1940.099976  1885.839966   \n",
      "5754  1846.089966  1902.829956  1940.099976  1885.839966  1955.489990   \n",
      "5755  1902.829956  1940.099976  1885.839966  1955.489990  1900.099976   \n",
      "5756  1940.099976  1885.839966  1955.489990  1900.099976  1963.949951   \n",
      "5757  1885.839966  1955.489990  1900.099976  1963.949951  1949.719971   \n",
      "\n",
      "          var1(t)  \n",
      "10       1.500000  \n",
      "11       1.510417  \n",
      "12       1.479167  \n",
      "13       1.416667  \n",
      "14       1.541667  \n",
      "...           ...  \n",
      "5753  1955.489990  \n",
      "5754  1900.099976  \n",
      "5755  1963.949951  \n",
      "5756  1949.719971  \n",
      "5757  1907.699951  \n",
      "\n",
      "[5748 rows x 11 columns]\n"
     ]
    }
   ],
   "source": [
    "# Send Adj Close values to series_to_supervised(). Returns time series data.\n",
    "array = series_to_supervised(values,10)\n",
    "\n",
    "print(array)"
   ]
  },
  {
   "cell_type": "markdown",
   "id": "stunning-colorado",
   "metadata": {},
   "source": [
    "# Problem 1(b)\n",
    "Scale the data with MinMaxScaler()"
   ]
  },
  {
   "cell_type": "code",
   "execution_count": 4,
   "id": "yellow-taxation",
   "metadata": {},
   "outputs": [
    {
     "data": {
      "text/plain": [
       "array([[2.59357128e-04, 1.53693076e-04, 1.44087293e-04, ...,\n",
       "        5.28325334e-05, 4.08251620e-05, 3.84236657e-05],\n",
       "       [1.53693076e-04, 1.44087293e-04, 1.10466888e-04, ...,\n",
       "        4.08251620e-05, 3.84236657e-05, 4.32266033e-05],\n",
       "       [1.44087293e-04, 1.10466888e-04, 1.44087293e-05, ...,\n",
       "        3.84236657e-05, 4.32266033e-05, 2.88177355e-05],\n",
       "       ...,\n",
       "       [7.78188587e-01, 8.32914067e-01, 8.43131601e-01, ...,\n",
       "        9.00991491e-01, 8.75452055e-01, 9.04892242e-01],\n",
       "       [8.32914067e-01, 8.43131601e-01, 8.66614396e-01, ...,\n",
       "        8.75452055e-01, 9.04892242e-01, 8.98331029e-01],\n",
       "       [8.43131601e-01, 8.66614396e-01, 8.50550352e-01, ...,\n",
       "        9.04892242e-01, 8.98331029e-01, 8.78956280e-01]])"
      ]
     },
     "execution_count": 4,
     "metadata": {},
     "output_type": "execute_result"
    }
   ],
   "source": [
    "\n",
    "MMS = MinMaxScaler()\n",
    "arrT = MMS.fit_transform(array)\n",
    "\n",
    "arrT"
   ]
  },
  {
   "cell_type": "markdown",
   "id": "genetic-bachelor",
   "metadata": {},
   "source": [
    "# Problem 1(c)\n",
    "Use the Normal Equation Method to find the linear regression coefficients"
   ]
  },
  {
   "cell_type": "code",
   "execution_count": 6,
   "id": "prescription-movement",
   "metadata": {},
   "outputs": [
    {
     "name": "stdout",
     "output_type": "stream",
     "text": [
      "The coefficients are :\n",
      " [[ 0.00012611]\n",
      " [-0.04833482]\n",
      " [ 0.22455881]\n",
      " [-0.15222874]\n",
      " [ 0.03289011]\n",
      " [-0.108812  ]\n",
      " [ 0.07175286]\n",
      " [-0.02607602]\n",
      " [-0.00148358]\n",
      " [ 0.08012983]\n",
      " [ 0.92804737]]\n"
     ]
    }
   ],
   "source": [
    "\n",
    "X = arrT[:,0:10]\n",
    "Y = arrT[:,10:11]\n",
    "\n",
    "X_train, X_test, y_train, y_test = train_test_split(X, Y, test_size=0.30, random_state=1)\n",
    "\n",
    "#add a constant 1 to X_train and X_test. Put it at the beginning. β0 will be at the beginning.\n",
    "\n",
    "ones = np.ones((len(X_train),1))\n",
    "X_train = np.append(ones,X_train,axis=1)\n",
    "\n",
    "ones = np.ones((len(X_test),1))\n",
    "X_test = np.append(ones,X_test,axis=1)\n",
    "\n",
    "X_transpose = np.transpose(X_train)\n",
    "\n",
    "# Calculating theta\n",
    "# Normal Equation:\n",
    "# theta = inv(X^T * X) * X^T * y\n",
    "theta = np.linalg.inv(X_transpose.dot(X_train))\n",
    "theta = theta.dot(X_transpose)\n",
    "theta = theta.dot(y_train)\n",
    "\n",
    "np.set_printoptions(precision=8,suppress=True)\n",
    "\n",
    "print('The coefficients are :\\n',theta)"
   ]
  },
  {
   "cell_type": "markdown",
   "id": "accredited-italic",
   "metadata": {},
   "source": [
    "## Problem 1(d)\n",
    "Make a prediction on my test set using the theta I found in the previous problem. "
   ]
  },
  {
   "cell_type": "code",
   "execution_count": 7,
   "id": "popular-capability",
   "metadata": {},
   "outputs": [
    {
     "name": "stdout",
     "output_type": "stream",
     "text": [
      "MSE:  2.4148595608780825e-05\n",
      "Rsq:  0.9995593086029824\n"
     ]
    }
   ],
   "source": [
    "wT = np.transpose(theta)\n",
    "\n",
    "y_pred_norm = X_test.dot(theta)\n",
    "\n",
    "y_pred_norm\n",
    "\n",
    "print('MSE: ',mean_squared_error(y_test,y_pred_norm))\n",
    "\n",
    "print(\"Rsq: \",r2_score(y_test,y_pred_norm))"
   ]
  },
  {
   "cell_type": "markdown",
   "id": "unsigned-occasions",
   "metadata": {},
   "source": [
    "## Problem 1(e)\n",
    "Next,  find  the  coefficients using  gradient  descent  algorithm. Keep track of "
   ]
  },
  {
   "cell_type": "code",
   "execution_count": 8,
   "id": "determined-payment",
   "metadata": {},
   "outputs": [],
   "source": [
    "def predict(row, coefficients):\n",
    "  yhat = coefficients[0]\n",
    "  for i in range(len(row)):\n",
    "    yhat = yhat + coefficients[i + 1] * row[i]\n",
    "  return yhat"
   ]
  },
  {
   "cell_type": "code",
   "execution_count": 9,
   "id": "hungry-bedroom",
   "metadata": {},
   "outputs": [],
   "source": [
    "def coefficients_sgd(X_train, Y_train, l_rate, n_epoch):\n",
    "  #initializing all coefficients to zero\n",
    "  coef = [0.0 for i in range(len(X_train[0])+1)]\n",
    "  for epoch in range(n_epoch):\n",
    "    sum_error = 0\n",
    "    for i in range(X_train.shape[0]):\n",
    "      # calculating the prediction using current coeeficients\n",
    "      yhat = predict(X_train[i,:], coef)\n",
    "      # calculating error\n",
    "      error = yhat - Y_train[i]\n",
    "      sum_error += error**2\n",
    "      #stochastic gradient descent\n",
    "      coef[0] = coef[0] - l_rate * error\n",
    "      for j in range(len(coef)-1):\n",
    "        coef[j + 1] = coef[j + 1] - l_rate * error * X_train[i,j]\n",
    "    print( ' >epoch=%d, lrate=%.3f, error=%.3f ' % (epoch, l_rate, sum_error))\n",
    "  #returning the list of coefficients  \n",
    "\n",
    "  return coef"
   ]
  },
  {
   "cell_type": "code",
   "execution_count": 10,
   "id": "vietnamese-paintball",
   "metadata": {},
   "outputs": [
    {
     "name": "stdout",
     "output_type": "stream",
     "text": [
      " >epoch=0, lrate=0.010, error=5.666 \n",
      " >epoch=1, lrate=0.010, error=0.453 \n",
      " >epoch=2, lrate=0.010, error=0.447 \n",
      " >epoch=3, lrate=0.010, error=0.442 \n",
      " >epoch=4, lrate=0.010, error=0.437 \n",
      " >epoch=5, lrate=0.010, error=0.432 \n",
      " >epoch=6, lrate=0.010, error=0.427 \n",
      " >epoch=7, lrate=0.010, error=0.422 \n",
      " >epoch=8, lrate=0.010, error=0.417 \n",
      " >epoch=9, lrate=0.010, error=0.413 \n",
      " >epoch=10, lrate=0.010, error=0.408 \n",
      " >epoch=11, lrate=0.010, error=0.404 \n",
      " >epoch=12, lrate=0.010, error=0.399 \n",
      " >epoch=13, lrate=0.010, error=0.395 \n",
      " >epoch=14, lrate=0.010, error=0.391 \n",
      " >epoch=15, lrate=0.010, error=0.387 \n",
      " >epoch=16, lrate=0.010, error=0.383 \n",
      " >epoch=17, lrate=0.010, error=0.379 \n",
      " >epoch=18, lrate=0.010, error=0.375 \n",
      " >epoch=19, lrate=0.010, error=0.371 \n",
      " >epoch=20, lrate=0.010, error=0.367 \n",
      " >epoch=21, lrate=0.010, error=0.364 \n",
      " >epoch=22, lrate=0.010, error=0.360 \n",
      " >epoch=23, lrate=0.010, error=0.357 \n",
      " >epoch=24, lrate=0.010, error=0.353 \n",
      " >epoch=25, lrate=0.010, error=0.350 \n",
      " >epoch=26, lrate=0.010, error=0.347 \n",
      " >epoch=27, lrate=0.010, error=0.343 \n",
      " >epoch=28, lrate=0.010, error=0.340 \n",
      " >epoch=29, lrate=0.010, error=0.337 \n",
      " >epoch=30, lrate=0.010, error=0.334 \n",
      " >epoch=31, lrate=0.010, error=0.331 \n",
      " >epoch=32, lrate=0.010, error=0.328 \n",
      " >epoch=33, lrate=0.010, error=0.326 \n",
      " >epoch=34, lrate=0.010, error=0.323 \n",
      " >epoch=35, lrate=0.010, error=0.320 \n",
      " >epoch=36, lrate=0.010, error=0.317 \n",
      " >epoch=37, lrate=0.010, error=0.315 \n",
      " >epoch=38, lrate=0.010, error=0.312 \n",
      " >epoch=39, lrate=0.010, error=0.310 \n",
      " >epoch=40, lrate=0.010, error=0.307 \n",
      " >epoch=41, lrate=0.010, error=0.305 \n",
      " >epoch=42, lrate=0.010, error=0.302 \n",
      " >epoch=43, lrate=0.010, error=0.300 \n",
      " >epoch=44, lrate=0.010, error=0.298 \n",
      " >epoch=45, lrate=0.010, error=0.296 \n",
      " >epoch=46, lrate=0.010, error=0.293 \n",
      " >epoch=47, lrate=0.010, error=0.291 \n",
      " >epoch=48, lrate=0.010, error=0.289 \n",
      " >epoch=49, lrate=0.010, error=0.287 \n",
      " >epoch=50, lrate=0.010, error=0.285 \n",
      " >epoch=51, lrate=0.010, error=0.283 \n",
      " >epoch=52, lrate=0.010, error=0.281 \n",
      " >epoch=53, lrate=0.010, error=0.279 \n",
      " >epoch=54, lrate=0.010, error=0.277 \n",
      " >epoch=55, lrate=0.010, error=0.275 \n",
      " >epoch=56, lrate=0.010, error=0.274 \n",
      " >epoch=57, lrate=0.010, error=0.272 \n",
      " >epoch=58, lrate=0.010, error=0.270 \n",
      " >epoch=59, lrate=0.010, error=0.268 \n",
      " >epoch=60, lrate=0.010, error=0.267 \n",
      " >epoch=61, lrate=0.010, error=0.265 \n",
      " >epoch=62, lrate=0.010, error=0.264 \n",
      " >epoch=63, lrate=0.010, error=0.262 \n",
      " >epoch=64, lrate=0.010, error=0.260 \n",
      " >epoch=65, lrate=0.010, error=0.259 \n",
      " >epoch=66, lrate=0.010, error=0.257 \n",
      " >epoch=67, lrate=0.010, error=0.256 \n",
      " >epoch=68, lrate=0.010, error=0.255 \n",
      " >epoch=69, lrate=0.010, error=0.253 \n",
      " >epoch=70, lrate=0.010, error=0.252 \n",
      " >epoch=71, lrate=0.010, error=0.250 \n",
      " >epoch=72, lrate=0.010, error=0.249 \n",
      " >epoch=73, lrate=0.010, error=0.248 \n",
      " >epoch=74, lrate=0.010, error=0.246 \n",
      " >epoch=75, lrate=0.010, error=0.245 \n",
      " >epoch=76, lrate=0.010, error=0.244 \n",
      " >epoch=77, lrate=0.010, error=0.243 \n",
      " >epoch=78, lrate=0.010, error=0.242 \n",
      " >epoch=79, lrate=0.010, error=0.240 \n",
      " >epoch=80, lrate=0.010, error=0.239 \n",
      " >epoch=81, lrate=0.010, error=0.238 \n",
      " >epoch=82, lrate=0.010, error=0.237 \n",
      " >epoch=83, lrate=0.010, error=0.236 \n",
      " >epoch=84, lrate=0.010, error=0.235 \n",
      " >epoch=85, lrate=0.010, error=0.234 \n",
      " >epoch=86, lrate=0.010, error=0.233 \n",
      " >epoch=87, lrate=0.010, error=0.232 \n",
      " >epoch=88, lrate=0.010, error=0.231 \n",
      " >epoch=89, lrate=0.010, error=0.230 \n",
      " >epoch=90, lrate=0.010, error=0.229 \n",
      " >epoch=91, lrate=0.010, error=0.228 \n",
      " >epoch=92, lrate=0.010, error=0.227 \n",
      " >epoch=93, lrate=0.010, error=0.226 \n",
      " >epoch=94, lrate=0.010, error=0.225 \n",
      " >epoch=95, lrate=0.010, error=0.224 \n",
      " >epoch=96, lrate=0.010, error=0.223 \n",
      " >epoch=97, lrate=0.010, error=0.223 \n",
      " >epoch=98, lrate=0.010, error=0.222 \n",
      " >epoch=99, lrate=0.010, error=0.221 \n",
      " >epoch=100, lrate=0.010, error=0.220 \n",
      " >epoch=101, lrate=0.010, error=0.219 \n",
      " >epoch=102, lrate=0.010, error=0.218 \n",
      " >epoch=103, lrate=0.010, error=0.218 \n",
      " >epoch=104, lrate=0.010, error=0.217 \n",
      " >epoch=105, lrate=0.010, error=0.216 \n",
      " >epoch=106, lrate=0.010, error=0.215 \n",
      " >epoch=107, lrate=0.010, error=0.215 \n",
      " >epoch=108, lrate=0.010, error=0.214 \n",
      " >epoch=109, lrate=0.010, error=0.213 \n",
      " >epoch=110, lrate=0.010, error=0.213 \n",
      " >epoch=111, lrate=0.010, error=0.212 \n",
      " >epoch=112, lrate=0.010, error=0.211 \n",
      " >epoch=113, lrate=0.010, error=0.211 \n",
      " >epoch=114, lrate=0.010, error=0.210 \n",
      " >epoch=115, lrate=0.010, error=0.209 \n",
      " >epoch=116, lrate=0.010, error=0.209 \n",
      " >epoch=117, lrate=0.010, error=0.208 \n",
      " >epoch=118, lrate=0.010, error=0.208 \n",
      " >epoch=119, lrate=0.010, error=0.207 \n",
      " >epoch=120, lrate=0.010, error=0.206 \n",
      " >epoch=121, lrate=0.010, error=0.206 \n",
      " >epoch=122, lrate=0.010, error=0.205 \n",
      " >epoch=123, lrate=0.010, error=0.205 \n",
      " >epoch=124, lrate=0.010, error=0.204 \n",
      " >epoch=125, lrate=0.010, error=0.204 \n",
      " >epoch=126, lrate=0.010, error=0.203 \n",
      " >epoch=127, lrate=0.010, error=0.203 \n",
      " >epoch=128, lrate=0.010, error=0.202 \n",
      " >epoch=129, lrate=0.010, error=0.201 \n",
      " >epoch=130, lrate=0.010, error=0.201 \n",
      " >epoch=131, lrate=0.010, error=0.200 \n",
      " >epoch=132, lrate=0.010, error=0.200 \n",
      " >epoch=133, lrate=0.010, error=0.200 \n",
      " >epoch=134, lrate=0.010, error=0.199 \n",
      " >epoch=135, lrate=0.010, error=0.199 \n",
      " >epoch=136, lrate=0.010, error=0.198 \n",
      " >epoch=137, lrate=0.010, error=0.198 \n",
      " >epoch=138, lrate=0.010, error=0.197 \n",
      " >epoch=139, lrate=0.010, error=0.197 \n",
      " >epoch=140, lrate=0.010, error=0.196 \n",
      " >epoch=141, lrate=0.010, error=0.196 \n",
      " >epoch=142, lrate=0.010, error=0.195 \n",
      " >epoch=143, lrate=0.010, error=0.195 \n",
      " >epoch=144, lrate=0.010, error=0.195 \n",
      " >epoch=145, lrate=0.010, error=0.194 \n",
      " >epoch=146, lrate=0.010, error=0.194 \n",
      " >epoch=147, lrate=0.010, error=0.193 \n",
      " >epoch=148, lrate=0.010, error=0.193 \n",
      " >epoch=149, lrate=0.010, error=0.193 \n",
      " >epoch=150, lrate=0.010, error=0.192 \n",
      " >epoch=151, lrate=0.010, error=0.192 \n",
      " >epoch=152, lrate=0.010, error=0.192 \n",
      " >epoch=153, lrate=0.010, error=0.191 \n",
      " >epoch=154, lrate=0.010, error=0.191 \n",
      " >epoch=155, lrate=0.010, error=0.190 \n",
      " >epoch=156, lrate=0.010, error=0.190 \n",
      " >epoch=157, lrate=0.010, error=0.190 \n",
      " >epoch=158, lrate=0.010, error=0.189 \n",
      " >epoch=159, lrate=0.010, error=0.189 \n",
      " >epoch=160, lrate=0.010, error=0.189 \n",
      " >epoch=161, lrate=0.010, error=0.188 \n",
      " >epoch=162, lrate=0.010, error=0.188 \n",
      " >epoch=163, lrate=0.010, error=0.188 \n",
      " >epoch=164, lrate=0.010, error=0.187 \n",
      " >epoch=165, lrate=0.010, error=0.187 \n",
      " >epoch=166, lrate=0.010, error=0.187 \n",
      " >epoch=167, lrate=0.010, error=0.187 \n",
      " >epoch=168, lrate=0.010, error=0.186 \n",
      " >epoch=169, lrate=0.010, error=0.186 \n",
      " >epoch=170, lrate=0.010, error=0.186 \n",
      " >epoch=171, lrate=0.010, error=0.185 \n",
      " >epoch=172, lrate=0.010, error=0.185 \n",
      " >epoch=173, lrate=0.010, error=0.185 \n",
      " >epoch=174, lrate=0.010, error=0.184 \n",
      " >epoch=175, lrate=0.010, error=0.184 \n",
      " >epoch=176, lrate=0.010, error=0.184 \n",
      " >epoch=177, lrate=0.010, error=0.184 \n",
      " >epoch=178, lrate=0.010, error=0.183 \n",
      " >epoch=179, lrate=0.010, error=0.183 \n",
      " >epoch=180, lrate=0.010, error=0.183 \n",
      " >epoch=181, lrate=0.010, error=0.183 \n",
      " >epoch=182, lrate=0.010, error=0.182 \n",
      " >epoch=183, lrate=0.010, error=0.182 \n",
      " >epoch=184, lrate=0.010, error=0.182 \n",
      " >epoch=185, lrate=0.010, error=0.182 \n",
      " >epoch=186, lrate=0.010, error=0.181 \n",
      " >epoch=187, lrate=0.010, error=0.181 \n",
      " >epoch=188, lrate=0.010, error=0.181 \n",
      " >epoch=189, lrate=0.010, error=0.181 \n",
      " >epoch=190, lrate=0.010, error=0.180 \n",
      " >epoch=191, lrate=0.010, error=0.180 \n",
      " >epoch=192, lrate=0.010, error=0.180 \n",
      " >epoch=193, lrate=0.010, error=0.180 \n",
      " >epoch=194, lrate=0.010, error=0.179 \n",
      " >epoch=195, lrate=0.010, error=0.179 \n",
      " >epoch=196, lrate=0.010, error=0.179 \n",
      " >epoch=197, lrate=0.010, error=0.179 \n",
      " >epoch=198, lrate=0.010, error=0.179 \n",
      " >epoch=199, lrate=0.010, error=0.178 \n"
     ]
    }
   ],
   "source": [
    "l_rate = 0.01\n",
    "n_epoch = 200\n",
    "\n",
    "coef = coefficients_sgd(X_train[:,1:11], y_train, l_rate, n_epoch)"
   ]
  },
  {
   "cell_type": "code",
   "execution_count": 11,
   "id": "killing-softball",
   "metadata": {},
   "outputs": [
    {
     "data": {
      "text/plain": [
       "array([-0.00001577,  0.00571104,  0.00177837, -0.0268984 , -0.01280302,\n",
       "       -0.00269069,  0.04673011,  0.09593432,  0.1690996 ,  0.28114747,\n",
       "        0.43780402])"
      ]
     },
     "execution_count": 11,
     "metadata": {},
     "output_type": "execute_result"
    }
   ],
   "source": [
    "np.set_printoptions(precision=8,suppress=True)\n",
    "\n",
    "np.concatenate(coef, axis=0 )"
   ]
  },
  {
   "cell_type": "markdown",
   "id": "protecting-quest",
   "metadata": {},
   "source": [
    "## Problem 1(f)"
   ]
  },
  {
   "cell_type": "code",
   "execution_count": 12,
   "id": "small-speaking",
   "metadata": {},
   "outputs": [
    {
     "name": "stdout",
     "output_type": "stream",
     "text": [
      "MSE:  3.536825552792772e-05\n",
      "Rsq:  0.9993545593213291\n"
     ]
    }
   ],
   "source": [
    "y_pred_sgd = X_test.dot(coef)\n",
    "\n",
    "\n",
    "print('MSE: ',mean_squared_error(y_test,y_pred_sgd))\n",
    "\n",
    "print(\"Rsq: \",r2_score(y_test,y_pred_sgd))"
   ]
  },
  {
   "cell_type": "code",
   "execution_count": 13,
   "id": "included-astrology",
   "metadata": {},
   "outputs": [
    {
     "name": "stdout",
     "output_type": "stream",
     "text": [
      "Normal equation method has just barely better metrics than gradient descent.\n"
     ]
    }
   ],
   "source": [
    "print('Normal equation method has just barely better metrics than gradient descent.')"
   ]
  },
  {
   "cell_type": "markdown",
   "id": "indirect-pavilion",
   "metadata": {},
   "source": [
    "# Problem 2"
   ]
  },
  {
   "cell_type": "code",
   "execution_count": 14,
   "id": "anonymous-shakespeare",
   "metadata": {},
   "outputs": [],
   "source": [
    "\n",
    "from  sklearn.model_selection  import  train_test_split\n",
    "from  sklearn.model_selection  import  GridSearchCV\n",
    "from  sklearn.model_selection  import  RepeatedStratifiedKFold\n",
    "from  sklearn.linear_model  import  Perceptron\n",
    "from  sklearn.model_selection  import  cross_val_score\n",
    "\n",
    "\n",
    "filename = r\"C:\\Users\\Brad\\Downloads\\sonar.all-data.csv\"\n",
    "df = pd.read_csv(filename)\n",
    "\n",
    "array = df.values\n",
    "\n",
    "X = array[:,:-1]\n",
    "Y = array[:,-1]\n",
    "\n"
   ]
  },
  {
   "cell_type": "markdown",
   "id": "educational-science",
   "metadata": {},
   "source": [
    "## Problem 2(a)\n",
    "Split the data, define the model and set my RepeatedStratifiedKFold."
   ]
  },
  {
   "cell_type": "code",
   "execution_count": 15,
   "id": "protected-trance",
   "metadata": {},
   "outputs": [
    {
     "name": "stdout",
     "output_type": "stream",
     "text": [
      "Mean Accuracy: 0.664 (0.119)\n"
     ]
    }
   ],
   "source": [
    "X_train, X_test, y_train, y_test = train_test_split(X, Y, test_size=0.30, random_state=3)\n",
    "\n",
    "model = Perceptron()\n",
    "\n",
    "rskf = RepeatedStratifiedKFold(n_splits=10, n_repeats=5, random_state=1)\n",
    "\n",
    "scores = cross_val_score(model, X_train, y_train, scoring='accuracy', cv=rskf, n_jobs=-1)\n",
    "print('Mean Accuracy: %.3f (%.3f)' % (np.mean(scores), np.std(scores)))"
   ]
  },
  {
   "cell_type": "markdown",
   "id": "sonic-birth",
   "metadata": {},
   "source": [
    "## Problem 2(b)\n",
    "Set the alpha values for the grid. Then use GridSearchCV "
   ]
  },
  {
   "cell_type": "code",
   "execution_count": 16,
   "id": "variable-gross",
   "metadata": {},
   "outputs": [],
   "source": [
    "grid = dict()\n",
    "grid['alpha'] = [0.0001, 0.001, 0.01, 0.1]"
   ]
  },
  {
   "cell_type": "code",
   "execution_count": 17,
   "id": "cordless-offense",
   "metadata": {},
   "outputs": [],
   "source": [
    "search = GridSearchCV(model, grid, scoring='accuracy', cv=rskf, n_jobs=-1)\n",
    "# perform the search\n",
    "results = search.fit(X_train, y_train)"
   ]
  },
  {
   "cell_type": "markdown",
   "id": "compatible-durham",
   "metadata": {},
   "source": [
    "## Problem 2(c)\n",
    "Report the best score and best parameter"
   ]
  },
  {
   "cell_type": "code",
   "execution_count": 18,
   "id": "polyphonic-mercy",
   "metadata": {},
   "outputs": [
    {
     "name": "stdout",
     "output_type": "stream",
     "text": [
      "Mean Accuracy: 0.664\n",
      "Config: {'alpha': 0.0001}\n"
     ]
    }
   ],
   "source": [
    "print('Mean Accuracy: %.3f' % results.best_score_)\n",
    "print('Config: %s' % results.best_params_)"
   ]
  },
  {
   "cell_type": "markdown",
   "id": "published-stability",
   "metadata": {},
   "source": [
    "## Problem 2(d)\n",
    "Create the perceptron model and fit using the training data. Make predictions from X_test to Y_test and look at the accuracy"
   ]
  },
  {
   "cell_type": "code",
   "execution_count": 19,
   "id": "stuffed-giant",
   "metadata": {},
   "outputs": [
    {
     "name": "stdout",
     "output_type": "stream",
     "text": [
      "Accuracy: 0.6507936507936508\n"
     ]
    }
   ],
   "source": [
    "model = Perceptron(alpha=.0001)\n",
    "model.fit(X_train,y_train)\n",
    "print('Accuracy:',model.score(X_test,y_test))\n"
   ]
  },
  {
   "cell_type": "markdown",
   "id": "behavioral-attendance",
   "metadata": {},
   "source": [
    "# Problem 3"
   ]
  },
  {
   "cell_type": "code",
   "execution_count": 20,
   "id": "chief-region",
   "metadata": {},
   "outputs": [],
   "source": [
    "from  sklearn.neighbors  import  KNeighborsClassifier\n",
    "from sklearn.metrics import accuracy_score\n",
    "import matplotlib.pyplot as plt\n",
    "\n",
    "filename = r\"C:\\Users\\Brad\\Downloads\\sonar.all-data.csv\"\n",
    "df3 = pd.read_csv(filename)\n",
    "\n",
    "array3 = df3.values\n",
    "\n",
    "X3 = array[:,:-1]\n",
    "Y3 = array[:,-1]"
   ]
  },
  {
   "cell_type": "markdown",
   "id": "cosmetic-stamp",
   "metadata": {},
   "source": [
    "## Problem 3(a)\n",
    "Split the data and test accuracy of KNN with n nearest neighbors equaling from 1 to 30."
   ]
  },
  {
   "cell_type": "code",
   "execution_count": 21,
   "id": "lucky-feature",
   "metadata": {},
   "outputs": [],
   "source": [
    "X_train, X_test, y_train, y_test = train_test_split(X, Y, test_size=0.30, random_state=5)\n",
    "\n",
    "scores = {}\n",
    "for k in range(1,30):\n",
    "  knn = KNeighborsClassifier(n_neighbors=k)\n",
    "  knn.fit(X_train, y_train)\n",
    "  y_pred = knn.predict(X_test)\n",
    "  scores[k] = accuracy_score(y_pred, y_test)"
   ]
  },
  {
   "cell_type": "markdown",
   "id": "powered-leadership",
   "metadata": {},
   "source": [
    "## Problem 3(b)\n",
    "plot the accuracies and choose the best value for k."
   ]
  },
  {
   "cell_type": "code",
   "execution_count": 22,
   "id": "curious-naples",
   "metadata": {},
   "outputs": [
    {
     "data": {
      "text/plain": [
       "[<matplotlib.lines.Line2D at 0x15cbca7d908>]"
      ]
     },
     "execution_count": 22,
     "metadata": {},
     "output_type": "execute_result"
    },
    {
     "data": {
      "image/png": "[encoded data removed]",
      "text/plain": [
       "<Figure size 432x288 with 1 Axes>"
      ]
     },
     "metadata": {
      "needs_background": "light"
     },
     "output_type": "display_data"
    }
   ],
   "source": [
    "plt.plot(list(scores.keys()),list(scores.values()))\n"
   ]
  },
  {
   "cell_type": "code",
   "execution_count": 23,
   "id": "white-toddler",
   "metadata": {},
   "outputs": [
    {
     "name": "stdout",
     "output_type": "stream",
     "text": [
      "the best value for k appears to be 1.\n"
     ]
    }
   ],
   "source": [
    "print(\"the best value for k appears to be 1.\")"
   ]
  },
  {
   "cell_type": "markdown",
   "id": "light-resident",
   "metadata": {},
   "source": [
    "## Problem 3(c)\n",
    "Create the K nearest neighbor with the chosen value of k. Perform predictions on the test set and report accuracy."
   ]
  },
  {
   "cell_type": "code",
   "execution_count": 24,
   "id": "decent-tiffany",
   "metadata": {},
   "outputs": [
    {
     "name": "stdout",
     "output_type": "stream",
     "text": [
      "The accuracy score of the model with n_neighbor = 1 is: 0.7777777777777778\n"
     ]
    }
   ],
   "source": [
    "knn = KNeighborsClassifier(n_neighbors=1)\n",
    "knn.fit(X_train, y_train)\n",
    "\n",
    "y_pred = knn.predict(X_test)\n",
    "\n",
    "print('The accuracy score of the model with n_neighbor = 1 is:',accuracy_score(y_pred, y_test))"
   ]
  }
 ],
 "metadata": {
  "kernelspec": {
   "display_name": "Python 3",
   "language": "python",
   "name": "python3"
  },
  "language_info": {
   "codemirror_mode": {
    "name": "ipython",
    "version": 3
   },
   "file_extension": ".py",
   "mimetype": "text/x-python",
   "name": "python",
   "nbconvert_exporter": "python",
   "pygments_lexer": "ipython3",
   "version": "3.7.6"
  }
 },
 "nbformat": 4,
 "nbformat_minor": 5
}
